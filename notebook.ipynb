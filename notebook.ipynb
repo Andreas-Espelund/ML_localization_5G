{
 "cells": [
  {
   "cell_type": "markdown",
   "source": [
    "# Machine Learning Enhanced localization in 5G networks    "
   ],
   "metadata": {
    "collapsed": false
   },
   "id": "ca14aac991422a61"
  },
  {
   "cell_type": "markdown",
   "source": [
    "# Data preparation"
   ],
   "metadata": {
    "collapsed": false
   },
   "id": "ec5ef52fff4ccfa6"
  },
  {
   "cell_type": "markdown",
   "source": [
    "## Data loading"
   ],
   "metadata": {
    "collapsed": false
   },
   "id": "81e2febc8be8208c"
  },
  {
   "cell_type": "code",
   "outputs": [
    {
     "data": {
      "text/plain": "        latitude  longitude  PCI_cov  SSBIdx_cov   SSB_RSSI  SSS_SINR  \\\n0      41.823742  12.467466       99           0 -52.299999      10.0   \n1      41.823742  12.467466       99           0 -52.299999      10.0   \n2      41.823742  12.467466       99           0 -52.299999      10.0   \n3      41.823742  12.467466       99           0 -52.299999      10.0   \n4      41.823742  12.467466       99           0 -52.299999      10.0   \n...          ...        ...      ...         ...        ...       ...   \n99995  41.823753  12.467386      214           5 -95.000000     -10.4   \n99996  41.823753  12.467386      214           5 -95.000000     -10.4   \n99997  41.823753  12.467386      214           5 -95.000000     -10.4   \n99998  41.823753  12.467386      214           5 -95.000000     -10.4   \n99999  41.823753  12.467386      214           5 -95.000000     -10.4   \n\n         SSS_RSRP  SSS_RSRQ       PPS   ToA_cov  operator_ID_cov  \\\n0     -110.699997     -10.9  2.073507  5.602907                1   \n1     -110.699997     -10.9  2.073507  5.602907                1   \n2     -110.699997     -10.9  2.073507  5.602907                1   \n3     -110.699997     -10.9  2.073507  5.602907                1   \n4     -110.699997     -10.9  2.073507  5.602907                1   \n...           ...       ...       ...       ...              ...   \n99995 -130.699997     -21.0  1.290986  4.820176                2   \n99996 -130.699997     -21.0  1.290986  4.820176                2   \n99997 -130.699997     -21.0  1.290986  4.820176                2   \n99998 -130.699997     -21.0  1.290986  4.820176                2   \n99999 -130.699997     -21.0  1.290986  4.820176                2   \n\n       campaign_ID_cov  PCI_cir  SSBIdx_cir  ToA_cir  operator_ID_cir  \\\n0                    1      215           1     6.32               -1   \n1                    1      214           6     1.52               -1   \n2                    1      215           2     0.08               -1   \n3                    1      214           5     0.29               -1   \n4                    1       85           1     0.47               -1   \n...                ...      ...         ...      ...              ...   \n99995                1       90           0     0.00               -1   \n99996                1      214           7     0.00               -1   \n99997                1       99           0     1.02               -1   \n99998                1       99           0     1.02               -1   \n99999                1      215           1     5.94               -1   \n\n       campaign_ID_cir  \n0                    1  \n1                    1  \n2                    1  \n3                    1  \n4                    1  \n...                ...  \n99995                1  \n99996                1  \n99997                1  \n99998                1  \n99999                1  \n\n[100000 rows x 17 columns]",
      "text/html": "<div>\n<style scoped>\n    .dataframe tbody tr th:only-of-type {\n        vertical-align: middle;\n    }\n\n    .dataframe tbody tr th {\n        vertical-align: top;\n    }\n\n    .dataframe thead th {\n        text-align: right;\n    }\n</style>\n<table border=\"1\" class=\"dataframe\">\n  <thead>\n    <tr style=\"text-align: right;\">\n      <th></th>\n      <th>latitude</th>\n      <th>longitude</th>\n      <th>PCI_cov</th>\n      <th>SSBIdx_cov</th>\n      <th>SSB_RSSI</th>\n      <th>SSS_SINR</th>\n      <th>SSS_RSRP</th>\n      <th>SSS_RSRQ</th>\n      <th>PPS</th>\n      <th>ToA_cov</th>\n      <th>operator_ID_cov</th>\n      <th>campaign_ID_cov</th>\n      <th>PCI_cir</th>\n      <th>SSBIdx_cir</th>\n      <th>ToA_cir</th>\n      <th>operator_ID_cir</th>\n      <th>campaign_ID_cir</th>\n    </tr>\n  </thead>\n  <tbody>\n    <tr>\n      <th>0</th>\n      <td>41.823742</td>\n      <td>12.467466</td>\n      <td>99</td>\n      <td>0</td>\n      <td>-52.299999</td>\n      <td>10.0</td>\n      <td>-110.699997</td>\n      <td>-10.9</td>\n      <td>2.073507</td>\n      <td>5.602907</td>\n      <td>1</td>\n      <td>1</td>\n      <td>215</td>\n      <td>1</td>\n      <td>6.32</td>\n      <td>-1</td>\n      <td>1</td>\n    </tr>\n    <tr>\n      <th>1</th>\n      <td>41.823742</td>\n      <td>12.467466</td>\n      <td>99</td>\n      <td>0</td>\n      <td>-52.299999</td>\n      <td>10.0</td>\n      <td>-110.699997</td>\n      <td>-10.9</td>\n      <td>2.073507</td>\n      <td>5.602907</td>\n      <td>1</td>\n      <td>1</td>\n      <td>214</td>\n      <td>6</td>\n      <td>1.52</td>\n      <td>-1</td>\n      <td>1</td>\n    </tr>\n    <tr>\n      <th>2</th>\n      <td>41.823742</td>\n      <td>12.467466</td>\n      <td>99</td>\n      <td>0</td>\n      <td>-52.299999</td>\n      <td>10.0</td>\n      <td>-110.699997</td>\n      <td>-10.9</td>\n      <td>2.073507</td>\n      <td>5.602907</td>\n      <td>1</td>\n      <td>1</td>\n      <td>215</td>\n      <td>2</td>\n      <td>0.08</td>\n      <td>-1</td>\n      <td>1</td>\n    </tr>\n    <tr>\n      <th>3</th>\n      <td>41.823742</td>\n      <td>12.467466</td>\n      <td>99</td>\n      <td>0</td>\n      <td>-52.299999</td>\n      <td>10.0</td>\n      <td>-110.699997</td>\n      <td>-10.9</td>\n      <td>2.073507</td>\n      <td>5.602907</td>\n      <td>1</td>\n      <td>1</td>\n      <td>214</td>\n      <td>5</td>\n      <td>0.29</td>\n      <td>-1</td>\n      <td>1</td>\n    </tr>\n    <tr>\n      <th>4</th>\n      <td>41.823742</td>\n      <td>12.467466</td>\n      <td>99</td>\n      <td>0</td>\n      <td>-52.299999</td>\n      <td>10.0</td>\n      <td>-110.699997</td>\n      <td>-10.9</td>\n      <td>2.073507</td>\n      <td>5.602907</td>\n      <td>1</td>\n      <td>1</td>\n      <td>85</td>\n      <td>1</td>\n      <td>0.47</td>\n      <td>-1</td>\n      <td>1</td>\n    </tr>\n    <tr>\n      <th>...</th>\n      <td>...</td>\n      <td>...</td>\n      <td>...</td>\n      <td>...</td>\n      <td>...</td>\n      <td>...</td>\n      <td>...</td>\n      <td>...</td>\n      <td>...</td>\n      <td>...</td>\n      <td>...</td>\n      <td>...</td>\n      <td>...</td>\n      <td>...</td>\n      <td>...</td>\n      <td>...</td>\n      <td>...</td>\n    </tr>\n    <tr>\n      <th>99995</th>\n      <td>41.823753</td>\n      <td>12.467386</td>\n      <td>214</td>\n      <td>5</td>\n      <td>-95.000000</td>\n      <td>-10.4</td>\n      <td>-130.699997</td>\n      <td>-21.0</td>\n      <td>1.290986</td>\n      <td>4.820176</td>\n      <td>2</td>\n      <td>1</td>\n      <td>90</td>\n      <td>0</td>\n      <td>0.00</td>\n      <td>-1</td>\n      <td>1</td>\n    </tr>\n    <tr>\n      <th>99996</th>\n      <td>41.823753</td>\n      <td>12.467386</td>\n      <td>214</td>\n      <td>5</td>\n      <td>-95.000000</td>\n      <td>-10.4</td>\n      <td>-130.699997</td>\n      <td>-21.0</td>\n      <td>1.290986</td>\n      <td>4.820176</td>\n      <td>2</td>\n      <td>1</td>\n      <td>214</td>\n      <td>7</td>\n      <td>0.00</td>\n      <td>-1</td>\n      <td>1</td>\n    </tr>\n    <tr>\n      <th>99997</th>\n      <td>41.823753</td>\n      <td>12.467386</td>\n      <td>214</td>\n      <td>5</td>\n      <td>-95.000000</td>\n      <td>-10.4</td>\n      <td>-130.699997</td>\n      <td>-21.0</td>\n      <td>1.290986</td>\n      <td>4.820176</td>\n      <td>2</td>\n      <td>1</td>\n      <td>99</td>\n      <td>0</td>\n      <td>1.02</td>\n      <td>-1</td>\n      <td>1</td>\n    </tr>\n    <tr>\n      <th>99998</th>\n      <td>41.823753</td>\n      <td>12.467386</td>\n      <td>214</td>\n      <td>5</td>\n      <td>-95.000000</td>\n      <td>-10.4</td>\n      <td>-130.699997</td>\n      <td>-21.0</td>\n      <td>1.290986</td>\n      <td>4.820176</td>\n      <td>2</td>\n      <td>1</td>\n      <td>99</td>\n      <td>0</td>\n      <td>1.02</td>\n      <td>-1</td>\n      <td>1</td>\n    </tr>\n    <tr>\n      <th>99999</th>\n      <td>41.823753</td>\n      <td>12.467386</td>\n      <td>214</td>\n      <td>5</td>\n      <td>-95.000000</td>\n      <td>-10.4</td>\n      <td>-130.699997</td>\n      <td>-21.0</td>\n      <td>1.290986</td>\n      <td>4.820176</td>\n      <td>2</td>\n      <td>1</td>\n      <td>215</td>\n      <td>1</td>\n      <td>5.94</td>\n      <td>-1</td>\n      <td>1</td>\n    </tr>\n  </tbody>\n</table>\n<p>100000 rows × 17 columns</p>\n</div>"
     },
     "execution_count": 14,
     "metadata": {},
     "output_type": "execute_result"
    }
   ],
   "source": [
    "import pandas as pd\n",
    "import numpy as np\n",
    "import matplotlib.pyplot as plt\n",
    "from utils import load_dataframe\n",
    "\n",
    "# load the coverage and cir datasets\n",
    "\n",
    "df = load_dataframe('data/5G_cov_cir_C1_interpolated_100000.csv')\n",
    "\n",
    "df"
   ],
   "metadata": {
    "collapsed": false,
    "ExecuteTime": {
     "end_time": "2024-03-09T16:17:23.379386Z",
     "start_time": "2024-03-09T16:17:23.301736Z"
    }
   },
   "id": "4a4e2e36faf4d58d",
   "execution_count": 14
  },
  {
   "cell_type": "markdown",
   "source": [
    "## Data splitting"
   ],
   "metadata": {
    "collapsed": false
   },
   "id": "6291ddb929da667a"
  },
  {
   "cell_type": "code",
   "outputs": [],
   "source": [
    "from sklearn.model_selection import train_test_split\n",
    "Y = df[['latitude', 'longitude']]\n",
    "\n",
    "X = df.drop(['latitude', 'longitude'], axis=1)\n",
    "\n",
    "X_train, X_test, y_train, y_test = train_test_split(X, Y, test_size=0.2, random_state=100)"
   ],
   "metadata": {
    "collapsed": false,
    "ExecuteTime": {
     "end_time": "2024-03-09T16:17:27.389144Z",
     "start_time": "2024-03-09T16:17:27.369199Z"
    }
   },
   "id": "d7e990fddda10b9f",
   "execution_count": 16
  },
  {
   "cell_type": "markdown",
   "source": [
    "# Model building"
   ],
   "metadata": {
    "collapsed": false
   },
   "id": "5cd0f5466630e026"
  },
  {
   "cell_type": "markdown",
   "source": [
    "## Linear regression"
   ],
   "metadata": {
    "collapsed": false
   },
   "id": "a9b25530f2461ae6"
  },
  {
   "cell_type": "markdown",
   "source": [
    "### Training the model "
   ],
   "metadata": {
    "collapsed": false
   },
   "id": "c548ba03fd42fd49"
  },
  {
   "cell_type": "code",
   "outputs": [],
   "source": [
    "from sklearn.linear_model import LinearRegression\n",
    "\n",
    "lr = LinearRegression()\n",
    "lr.fit(X_train, y_train)"
   ],
   "metadata": {
    "collapsed": false
   },
   "id": "605502429787447d",
   "execution_count": null
  },
  {
   "cell_type": "markdown",
   "source": [
    "### Applying model for prediction"
   ],
   "metadata": {
    "collapsed": false
   },
   "id": "8775ba35c2276723"
  },
  {
   "cell_type": "code",
   "outputs": [],
   "source": [
    "y_lr_train_pred = lr.predict(X_train)\n",
    "y_lr_test_pred = lr.predict(X_test)"
   ],
   "metadata": {
    "collapsed": false
   },
   "id": "4c0d9d96b861f924",
   "execution_count": null
  },
  {
   "cell_type": "markdown",
   "source": [
    "### Performance evaluation"
   ],
   "metadata": {
    "collapsed": false
   },
   "id": "abbb46a1965b8794"
  },
  {
   "cell_type": "code",
   "outputs": [],
   "source": [
    "from utils import mean_position_error\n",
    "# training data performance\n",
    "\n",
    "lr_train_mpe = mean_position_error(y_train, y_lr_train_pred)\n",
    "lr_test_mpe = mean_position_error(y_test, y_lr_test_pred)\n",
    "errors_lr = pd.DataFrame([[\"Linear Regression\", lr_train_mpe, lr_test_mpe]], columns=['Model', 'Train MPE', 'Test MPE'])\n",
    "\n",
    "print(\"Performance evaluation: Linear Regression\")\n",
    "print(\"Training Mpe:\", lr_train_mpe)\n",
    "print(\"Test Mpe:\", lr_test_mpe)"
   ],
   "metadata": {
    "collapsed": false
   },
   "id": "7fe621999fb92ddf",
   "execution_count": null
  },
  {
   "cell_type": "markdown",
   "source": [
    "## K-NN"
   ],
   "metadata": {
    "collapsed": false
   },
   "id": "1c6a0afc0441305d"
  },
  {
   "cell_type": "markdown",
   "source": [
    "### Training the model"
   ],
   "metadata": {
    "collapsed": false
   },
   "id": "58569666938d771f"
  },
  {
   "cell_type": "code",
   "outputs": [
    {
     "name": "stdout",
     "output_type": "stream",
     "text": [
      "Best parameters: {'n_neighbors': 3, 'p': 1, 'weights': 'distance'}\n",
      "Best model: KNeighborsRegressor(n_neighbors=3, p=1, weights='distance')\n"
     ]
    }
   ],
   "source": [
    "from sklearn.neighbors import KNeighborsRegressor\n",
    "from sklearn.model_selection import GridSearchCV\n",
    "\n",
    "# Sample hyperparameter grid\n",
    "param_grid = {\n",
    "    'n_neighbors': [3, 5, 7, 10],\n",
    "    'weights': ['uniform', 'distance'],\n",
    "    'p': [1, 2]\n",
    "}\n",
    "\n",
    "# Initialize the KNN regressor\n",
    "knn = KNeighborsRegressor()\n",
    "\n",
    "# Grid search for the best parameters\n",
    "grid_search = GridSearchCV(knn, param_grid, cv=5)  # cv is the number of folds for cross-validation\n",
    "grid_search.fit(X_train, y_train)\n",
    "\n",
    "# Best parameters and model\n",
    "best_params = grid_search.best_params_\n",
    "best_knn_model = grid_search.best_estimator_\n",
    "\n",
    "print(\"Best parameters:\", best_params)\n",
    "print(\"Best model:\", best_knn_model)\n",
    "\n",
    "# fit the model\n",
    "best_knn_model.fit(X_train, y_train)\n",
    "knn = best_knn_model"
   ],
   "metadata": {
    "collapsed": false,
    "ExecuteTime": {
     "end_time": "2024-03-09T16:18:14.695794Z",
     "start_time": "2024-03-09T16:17:42.593245Z"
    }
   },
   "id": "8108354194cf5f86",
   "execution_count": 17
  },
  {
   "cell_type": "markdown",
   "source": [
    "### Applying the model for prediction"
   ],
   "metadata": {
    "collapsed": false
   },
   "id": "e2c04db9bd2d2bb6"
  },
  {
   "cell_type": "code",
   "outputs": [],
   "source": [
    "y_knn_train_pred = knn.predict(X_train)\n",
    "\n",
    "y_knn_test_pred = knn.predict(X_test)"
   ],
   "metadata": {
    "collapsed": false,
    "ExecuteTime": {
     "end_time": "2024-03-09T16:18:24.265119Z",
     "start_time": "2024-03-09T16:18:22.034780Z"
    }
   },
   "id": "3df82486babfee2b",
   "execution_count": 18
  },
  {
   "cell_type": "markdown",
   "source": [
    "### Performance evaulation"
   ],
   "metadata": {
    "collapsed": false
   },
   "id": "ab2c9f85df4ecdeb"
  },
  {
   "cell_type": "code",
   "outputs": [
    {
     "name": "stdout",
     "output_type": "stream",
     "text": [
      "Performance evaluation: KNN\n",
      "Training Mpe: 0.0\n",
      "Test Mpe: 0.015651742905009258\n"
     ]
    }
   ],
   "source": [
    "from utils import mean_position_error\n",
    "knn_train_mpe = mean_position_error(y_train, y_knn_train_pred)\n",
    "knn_test_mpe = mean_position_error(y_test, y_knn_test_pred)\n",
    "errors_knn = pd.DataFrame([[\"KNN\",knn_train_mpe, knn_test_mpe]], columns= ['Model','Train MPE', 'Test MPE'])\n",
    "\n",
    "print(\"Performance evaluation: KNN\")\n",
    "print(\"Training Mpe:\", knn_train_mpe)\n",
    "print(\"Test Mpe:\", knn_test_mpe)"
   ],
   "metadata": {
    "collapsed": false,
    "ExecuteTime": {
     "end_time": "2024-03-09T16:18:26.346405Z",
     "start_time": "2024-03-09T16:18:25.917706Z"
    }
   },
   "id": "6d487bb59ffc8d41",
   "execution_count": 19
  },
  {
   "cell_type": "markdown",
   "source": [
    "## Random Forest"
   ],
   "metadata": {
    "collapsed": false
   },
   "id": "e3236694cb3334c4"
  },
  {
   "cell_type": "markdown",
   "source": [
    "### Training the model"
   ],
   "metadata": {
    "collapsed": false
   },
   "id": "508936fe2c5df0fe"
  },
  {
   "cell_type": "code",
   "outputs": [],
   "source": [
    "from sklearn.ensemble import RandomForestRegressor\n",
    "\n",
    "rf = RandomForestRegressor()\n",
    "rf.fit(X_train, y_train)"
   ],
   "metadata": {
    "collapsed": false
   },
   "id": "8b8b25b22c1840d7",
   "execution_count": null
  },
  {
   "cell_type": "markdown",
   "source": [
    "### Applying the model for prediction"
   ],
   "metadata": {
    "collapsed": false
   },
   "id": "88c550944c7b18af"
  },
  {
   "cell_type": "code",
   "outputs": [],
   "source": [
    "y_rf_train_pred = rf.predict(X_train)\n",
    "y_rf_test_pred = rf.predict(X_test)"
   ],
   "metadata": {
    "collapsed": false
   },
   "id": "fdab97684c38bf6f",
   "execution_count": null
  },
  {
   "cell_type": "markdown",
   "source": [
    "### Performance evalutaion"
   ],
   "metadata": {
    "collapsed": false
   },
   "id": "72d3d184e0585a49"
  },
  {
   "cell_type": "code",
   "outputs": [],
   "source": [
    "rf_train_mpe = mean_position_error(y_train, y_rf_train_pred)\n",
    "rf_test_mpe = mean_position_error(y_test, y_rf_test_pred)\n",
    "errors_rf = pd.DataFrame([[\"Random Forest\",rf_train_mpe, rf_test_mpe]], columns= ['Model','Train MPE', 'Test MPE'])\n",
    "\n",
    "print(\"Performance evaluation: Random Forest\")\n",
    "print(\"Training Mpe:\", rf_train_mpe)\n",
    "print(\"Test Mpe:\",rf_test_mpe)"
   ],
   "metadata": {
    "collapsed": false
   },
   "id": "842d4d682e29f8c7",
   "execution_count": null
  },
  {
   "cell_type": "markdown",
   "source": [
    "## Model comparison"
   ],
   "metadata": {
    "collapsed": false
   },
   "id": "646d99927dfd6395"
  },
  {
   "cell_type": "code",
   "outputs": [],
   "source": [
    "import seaborn as sns\n",
    "errors_comp = pd.concat([errors_lr, errors_knn, errors_rf], axis=0)\n",
    "\n",
    "print(errors_comp)\n",
    "\n",
    "# Assuming errors_comp is already prepared\n",
    "errors_comp_melted = errors_comp.melt(id_vars='Model', var_name='DataSet', value_name='MPE')\n",
    "\n",
    "# Plot\n",
    "plt.figure(figsize=(8, 8))\n",
    "sns.barplot(data=errors_comp_melted, x='Model', y='MPE', hue='DataSet', palette='viridis', width=0.5)\n",
    "\n",
    "plt.title('Mean Positional Error (MPE) by Model and DataSet')\n",
    "plt.ylabel('Mean Positional Error (MPE)')\n",
    "plt.xlabel('ML Model')\n",
    "\n",
    "plt.yscale('log')  # Using a logarithmic scale to better visualize low values\n",
    "\n",
    "plt.tight_layout()\n",
    "plt.show()"
   ],
   "metadata": {
    "collapsed": false
   },
   "id": "92e22cbac06366c",
   "execution_count": null
  },
  {
   "cell_type": "code",
   "outputs": [],
   "source": [],
   "metadata": {
    "collapsed": false
   },
   "id": "e709f6907880df8b",
   "execution_count": null
  }
 ],
 "metadata": {
  "kernelspec": {
   "display_name": "Python 3 (ipykernel)",
   "language": "python",
   "name": "python3"
  },
  "language_info": {
   "codemirror_mode": {
    "name": "ipython",
    "version": 3
   },
   "file_extension": ".py",
   "mimetype": "text/x-python",
   "name": "python",
   "nbconvert_exporter": "python",
   "pygments_lexer": "ipython3",
   "version": "3.11.7"
  }
 },
 "nbformat": 4,
 "nbformat_minor": 5
}
