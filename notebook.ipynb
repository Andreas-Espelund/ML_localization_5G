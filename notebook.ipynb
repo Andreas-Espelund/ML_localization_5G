{
 "cells": [
  {
   "cell_type": "markdown",
   "source": [
    "# Machine Learning Enhanced localization in 5G networks    "
   ],
   "metadata": {
    "collapsed": false
   },
   "id": "ca14aac991422a61"
  },
  {
   "cell_type": "markdown",
   "source": [
    "# Data preparation"
   ],
   "metadata": {
    "collapsed": false
   },
   "id": "ec5ef52fff4ccfa6"
  },
  {
   "cell_type": "markdown",
   "source": [
    "## Data loading"
   ],
   "metadata": {
    "collapsed": false
   },
   "id": "81e2febc8be8208c"
  },
  {
   "cell_type": "code",
   "outputs": [
    {
     "data": {
      "text/plain": "         latitude  longitude  PCI_cov  SSBIdx_cov  SSB_RSSI  SSS_SINR  \\\n0       41.823742  12.467466       99           0     -52.3      10.0   \n1       41.823742  12.467466       99           0     -52.3      10.0   \n2       41.823742  12.467466       99           0     -52.3      10.0   \n3       41.823742  12.467466       99           0     -52.3      10.0   \n4       41.823742  12.467466       99           0     -52.3      10.0   \n...           ...        ...      ...         ...       ...       ...   \n999995  41.823757  12.467394       85           6     -93.6     -15.1   \n999996  41.823757  12.467394       85           6     -93.6     -15.1   \n999997  41.823757  12.467394       85           6     -93.6     -15.1   \n999998  41.823757  12.467394       85           6     -93.6     -15.1   \n999999  41.823757  12.467394       85           6     -93.6     -15.1   \n\n        SSS_RSRP  SSS_RSRQ       PPS   ToA_cov  operator_ID_cov  \\\n0         -110.7     -10.9  2.073507  5.602907                1   \n1         -110.7     -10.9  2.073507  5.602907                1   \n2         -110.7     -10.9  2.073507  5.602907                1   \n3         -110.7     -10.9  2.073507  5.602907                1   \n4         -110.7     -10.9  2.073507  5.602907                1   \n...          ...       ...       ...       ...              ...   \n999995    -133.4     -26.2  1.579707  5.108900                2   \n999996    -133.4     -26.2  1.579707  5.108900                2   \n999997    -133.4     -26.2  1.579707  5.108900                2   \n999998    -133.4     -26.2  1.579707  5.108900                2   \n999999    -133.4     -26.2  1.579707  5.108900                2   \n\n        campaign_ID_cov  PCI_cir  SSBIdx_cir  ToA_cir  operator_ID_cir  \\\n0                     1      215           1     6.32               -1   \n1                     1      214           6     1.52               -1   \n2                     1      215           2     0.08               -1   \n3                     1      214           5     0.29               -1   \n4                     1       85           1     0.47               -1   \n...                 ...      ...         ...      ...              ...   \n999995                1      474           1     0.00               -1   \n999996                1       85           3     0.00               -1   \n999997                1      215           3     0.00               -1   \n999998                1      215           7     0.00               -1   \n999999                1       85           6     0.00               -1   \n\n        campaign_ID_cir  \n0                     1  \n1                     1  \n2                     1  \n3                     1  \n4                     1  \n...                 ...  \n999995                1  \n999996                1  \n999997                1  \n999998                1  \n999999                1  \n\n[1000000 rows x 17 columns]",
      "text/html": "<div>\n<style scoped>\n    .dataframe tbody tr th:only-of-type {\n        vertical-align: middle;\n    }\n\n    .dataframe tbody tr th {\n        vertical-align: top;\n    }\n\n    .dataframe thead th {\n        text-align: right;\n    }\n</style>\n<table border=\"1\" class=\"dataframe\">\n  <thead>\n    <tr style=\"text-align: right;\">\n      <th></th>\n      <th>latitude</th>\n      <th>longitude</th>\n      <th>PCI_cov</th>\n      <th>SSBIdx_cov</th>\n      <th>SSB_RSSI</th>\n      <th>SSS_SINR</th>\n      <th>SSS_RSRP</th>\n      <th>SSS_RSRQ</th>\n      <th>PPS</th>\n      <th>ToA_cov</th>\n      <th>operator_ID_cov</th>\n      <th>campaign_ID_cov</th>\n      <th>PCI_cir</th>\n      <th>SSBIdx_cir</th>\n      <th>ToA_cir</th>\n      <th>operator_ID_cir</th>\n      <th>campaign_ID_cir</th>\n    </tr>\n  </thead>\n  <tbody>\n    <tr>\n      <th>0</th>\n      <td>41.823742</td>\n      <td>12.467466</td>\n      <td>99</td>\n      <td>0</td>\n      <td>-52.3</td>\n      <td>10.0</td>\n      <td>-110.7</td>\n      <td>-10.9</td>\n      <td>2.073507</td>\n      <td>5.602907</td>\n      <td>1</td>\n      <td>1</td>\n      <td>215</td>\n      <td>1</td>\n      <td>6.32</td>\n      <td>-1</td>\n      <td>1</td>\n    </tr>\n    <tr>\n      <th>1</th>\n      <td>41.823742</td>\n      <td>12.467466</td>\n      <td>99</td>\n      <td>0</td>\n      <td>-52.3</td>\n      <td>10.0</td>\n      <td>-110.7</td>\n      <td>-10.9</td>\n      <td>2.073507</td>\n      <td>5.602907</td>\n      <td>1</td>\n      <td>1</td>\n      <td>214</td>\n      <td>6</td>\n      <td>1.52</td>\n      <td>-1</td>\n      <td>1</td>\n    </tr>\n    <tr>\n      <th>2</th>\n      <td>41.823742</td>\n      <td>12.467466</td>\n      <td>99</td>\n      <td>0</td>\n      <td>-52.3</td>\n      <td>10.0</td>\n      <td>-110.7</td>\n      <td>-10.9</td>\n      <td>2.073507</td>\n      <td>5.602907</td>\n      <td>1</td>\n      <td>1</td>\n      <td>215</td>\n      <td>2</td>\n      <td>0.08</td>\n      <td>-1</td>\n      <td>1</td>\n    </tr>\n    <tr>\n      <th>3</th>\n      <td>41.823742</td>\n      <td>12.467466</td>\n      <td>99</td>\n      <td>0</td>\n      <td>-52.3</td>\n      <td>10.0</td>\n      <td>-110.7</td>\n      <td>-10.9</td>\n      <td>2.073507</td>\n      <td>5.602907</td>\n      <td>1</td>\n      <td>1</td>\n      <td>214</td>\n      <td>5</td>\n      <td>0.29</td>\n      <td>-1</td>\n      <td>1</td>\n    </tr>\n    <tr>\n      <th>4</th>\n      <td>41.823742</td>\n      <td>12.467466</td>\n      <td>99</td>\n      <td>0</td>\n      <td>-52.3</td>\n      <td>10.0</td>\n      <td>-110.7</td>\n      <td>-10.9</td>\n      <td>2.073507</td>\n      <td>5.602907</td>\n      <td>1</td>\n      <td>1</td>\n      <td>85</td>\n      <td>1</td>\n      <td>0.47</td>\n      <td>-1</td>\n      <td>1</td>\n    </tr>\n    <tr>\n      <th>...</th>\n      <td>...</td>\n      <td>...</td>\n      <td>...</td>\n      <td>...</td>\n      <td>...</td>\n      <td>...</td>\n      <td>...</td>\n      <td>...</td>\n      <td>...</td>\n      <td>...</td>\n      <td>...</td>\n      <td>...</td>\n      <td>...</td>\n      <td>...</td>\n      <td>...</td>\n      <td>...</td>\n      <td>...</td>\n    </tr>\n    <tr>\n      <th>999995</th>\n      <td>41.823757</td>\n      <td>12.467394</td>\n      <td>85</td>\n      <td>6</td>\n      <td>-93.6</td>\n      <td>-15.1</td>\n      <td>-133.4</td>\n      <td>-26.2</td>\n      <td>1.579707</td>\n      <td>5.108900</td>\n      <td>2</td>\n      <td>1</td>\n      <td>474</td>\n      <td>1</td>\n      <td>0.00</td>\n      <td>-1</td>\n      <td>1</td>\n    </tr>\n    <tr>\n      <th>999996</th>\n      <td>41.823757</td>\n      <td>12.467394</td>\n      <td>85</td>\n      <td>6</td>\n      <td>-93.6</td>\n      <td>-15.1</td>\n      <td>-133.4</td>\n      <td>-26.2</td>\n      <td>1.579707</td>\n      <td>5.108900</td>\n      <td>2</td>\n      <td>1</td>\n      <td>85</td>\n      <td>3</td>\n      <td>0.00</td>\n      <td>-1</td>\n      <td>1</td>\n    </tr>\n    <tr>\n      <th>999997</th>\n      <td>41.823757</td>\n      <td>12.467394</td>\n      <td>85</td>\n      <td>6</td>\n      <td>-93.6</td>\n      <td>-15.1</td>\n      <td>-133.4</td>\n      <td>-26.2</td>\n      <td>1.579707</td>\n      <td>5.108900</td>\n      <td>2</td>\n      <td>1</td>\n      <td>215</td>\n      <td>3</td>\n      <td>0.00</td>\n      <td>-1</td>\n      <td>1</td>\n    </tr>\n    <tr>\n      <th>999998</th>\n      <td>41.823757</td>\n      <td>12.467394</td>\n      <td>85</td>\n      <td>6</td>\n      <td>-93.6</td>\n      <td>-15.1</td>\n      <td>-133.4</td>\n      <td>-26.2</td>\n      <td>1.579707</td>\n      <td>5.108900</td>\n      <td>2</td>\n      <td>1</td>\n      <td>215</td>\n      <td>7</td>\n      <td>0.00</td>\n      <td>-1</td>\n      <td>1</td>\n    </tr>\n    <tr>\n      <th>999999</th>\n      <td>41.823757</td>\n      <td>12.467394</td>\n      <td>85</td>\n      <td>6</td>\n      <td>-93.6</td>\n      <td>-15.1</td>\n      <td>-133.4</td>\n      <td>-26.2</td>\n      <td>1.579707</td>\n      <td>5.108900</td>\n      <td>2</td>\n      <td>1</td>\n      <td>85</td>\n      <td>6</td>\n      <td>0.00</td>\n      <td>-1</td>\n      <td>1</td>\n    </tr>\n  </tbody>\n</table>\n<p>1000000 rows × 17 columns</p>\n</div>"
     },
     "execution_count": 19,
     "metadata": {},
     "output_type": "execute_result"
    }
   ],
   "source": [
    "import pandas as pd\n",
    "import numpy as np\n",
    "import matplotlib.pyplot as plt\n",
    "\n",
    "# load the coverage and cir datasets\n",
    "\n",
    "df = pd.read_csv('data/5G_cov_cir_C1_interpolated_100000.csv')\n",
    "\n",
    "\n",
    "\n",
    "df"
   ],
   "metadata": {
    "collapsed": false,
    "ExecuteTime": {
     "end_time": "2024-03-08T15:11:33.139009Z",
     "start_time": "2024-03-08T15:11:32.589258Z"
    }
   },
   "id": "4a4e2e36faf4d58d",
   "execution_count": 19
  },
  {
   "cell_type": "markdown",
   "source": [
    "## Data splitting"
   ],
   "metadata": {
    "collapsed": false
   },
   "id": "6291ddb929da667a"
  },
  {
   "cell_type": "code",
   "outputs": [],
   "source": [
    "from sklearn.model_selection import train_test_split\n",
    "Y = df[['latitude', 'longitude']]\n",
    "\n",
    "X = df.drop(['latitude', 'longitude'], axis=1)\n",
    "\n",
    "X_train, X_test, y_train, y_test = train_test_split(X, Y, test_size=0.2, random_state=100)"
   ],
   "metadata": {
    "collapsed": false,
    "ExecuteTime": {
     "end_time": "2024-03-08T15:11:39.883161Z",
     "start_time": "2024-03-08T15:11:39.783673Z"
    }
   },
   "id": "d7e990fddda10b9f",
   "execution_count": 20
  },
  {
   "cell_type": "markdown",
   "source": [
    "# Model building"
   ],
   "metadata": {
    "collapsed": false
   },
   "id": "5cd0f5466630e026"
  },
  {
   "cell_type": "markdown",
   "source": [
    "## Linear regression"
   ],
   "metadata": {
    "collapsed": false
   },
   "id": "a9b25530f2461ae6"
  },
  {
   "cell_type": "markdown",
   "source": [
    "### Training the model "
   ],
   "metadata": {
    "collapsed": false
   },
   "id": "c548ba03fd42fd49"
  },
  {
   "cell_type": "code",
   "outputs": [
    {
     "data": {
      "text/plain": "LinearRegression()",
      "text/html": "<style>#sk-container-id-5 {color: black;background-color: white;}#sk-container-id-5 pre{padding: 0;}#sk-container-id-5 div.sk-toggleable {background-color: white;}#sk-container-id-5 label.sk-toggleable__label {cursor: pointer;display: block;width: 100%;margin-bottom: 0;padding: 0.3em;box-sizing: border-box;text-align: center;}#sk-container-id-5 label.sk-toggleable__label-arrow:before {content: \"▸\";float: left;margin-right: 0.25em;color: #696969;}#sk-container-id-5 label.sk-toggleable__label-arrow:hover:before {color: black;}#sk-container-id-5 div.sk-estimator:hover label.sk-toggleable__label-arrow:before {color: black;}#sk-container-id-5 div.sk-toggleable__content {max-height: 0;max-width: 0;overflow: hidden;text-align: left;background-color: #f0f8ff;}#sk-container-id-5 div.sk-toggleable__content pre {margin: 0.2em;color: black;border-radius: 0.25em;background-color: #f0f8ff;}#sk-container-id-5 input.sk-toggleable__control:checked~div.sk-toggleable__content {max-height: 200px;max-width: 100%;overflow: auto;}#sk-container-id-5 input.sk-toggleable__control:checked~label.sk-toggleable__label-arrow:before {content: \"▾\";}#sk-container-id-5 div.sk-estimator input.sk-toggleable__control:checked~label.sk-toggleable__label {background-color: #d4ebff;}#sk-container-id-5 div.sk-label input.sk-toggleable__control:checked~label.sk-toggleable__label {background-color: #d4ebff;}#sk-container-id-5 input.sk-hidden--visually {border: 0;clip: rect(1px 1px 1px 1px);clip: rect(1px, 1px, 1px, 1px);height: 1px;margin: -1px;overflow: hidden;padding: 0;position: absolute;width: 1px;}#sk-container-id-5 div.sk-estimator {font-family: monospace;background-color: #f0f8ff;border: 1px dotted black;border-radius: 0.25em;box-sizing: border-box;margin-bottom: 0.5em;}#sk-container-id-5 div.sk-estimator:hover {background-color: #d4ebff;}#sk-container-id-5 div.sk-parallel-item::after {content: \"\";width: 100%;border-bottom: 1px solid gray;flex-grow: 1;}#sk-container-id-5 div.sk-label:hover label.sk-toggleable__label {background-color: #d4ebff;}#sk-container-id-5 div.sk-serial::before {content: \"\";position: absolute;border-left: 1px solid gray;box-sizing: border-box;top: 0;bottom: 0;left: 50%;z-index: 0;}#sk-container-id-5 div.sk-serial {display: flex;flex-direction: column;align-items: center;background-color: white;padding-right: 0.2em;padding-left: 0.2em;position: relative;}#sk-container-id-5 div.sk-item {position: relative;z-index: 1;}#sk-container-id-5 div.sk-parallel {display: flex;align-items: stretch;justify-content: center;background-color: white;position: relative;}#sk-container-id-5 div.sk-item::before, #sk-container-id-5 div.sk-parallel-item::before {content: \"\";position: absolute;border-left: 1px solid gray;box-sizing: border-box;top: 0;bottom: 0;left: 50%;z-index: -1;}#sk-container-id-5 div.sk-parallel-item {display: flex;flex-direction: column;z-index: 1;position: relative;background-color: white;}#sk-container-id-5 div.sk-parallel-item:first-child::after {align-self: flex-end;width: 50%;}#sk-container-id-5 div.sk-parallel-item:last-child::after {align-self: flex-start;width: 50%;}#sk-container-id-5 div.sk-parallel-item:only-child::after {width: 0;}#sk-container-id-5 div.sk-dashed-wrapped {border: 1px dashed gray;margin: 0 0.4em 0.5em 0.4em;box-sizing: border-box;padding-bottom: 0.4em;background-color: white;}#sk-container-id-5 div.sk-label label {font-family: monospace;font-weight: bold;display: inline-block;line-height: 1.2em;}#sk-container-id-5 div.sk-label-container {text-align: center;}#sk-container-id-5 div.sk-container {/* jupyter's `normalize.less` sets `[hidden] { display: none; }` but bootstrap.min.css set `[hidden] { display: none !important; }` so we also need the `!important` here to be able to override the default hidden behavior on the sphinx rendered scikit-learn.org. See: https://github.com/scikit-learn/scikit-learn/issues/21755 */display: inline-block !important;position: relative;}#sk-container-id-5 div.sk-text-repr-fallback {display: none;}</style><div id=\"sk-container-id-5\" class=\"sk-top-container\"><div class=\"sk-text-repr-fallback\"><pre>LinearRegression()</pre><b>In a Jupyter environment, please rerun this cell to show the HTML representation or trust the notebook. <br />On GitHub, the HTML representation is unable to render, please try loading this page with nbviewer.org.</b></div><div class=\"sk-container\" hidden><div class=\"sk-item\"><div class=\"sk-estimator sk-toggleable\"><input class=\"sk-toggleable__control sk-hidden--visually\" id=\"sk-estimator-id-5\" type=\"checkbox\" checked><label for=\"sk-estimator-id-5\" class=\"sk-toggleable__label sk-toggleable__label-arrow\">LinearRegression</label><div class=\"sk-toggleable__content\"><pre>LinearRegression()</pre></div></div></div></div></div>"
     },
     "execution_count": 21,
     "metadata": {},
     "output_type": "execute_result"
    }
   ],
   "source": [
    "from sklearn.linear_model import LinearRegression\n",
    "\n",
    "lr = LinearRegression()\n",
    "lr.fit(X_train, y_train)"
   ],
   "metadata": {
    "collapsed": false,
    "ExecuteTime": {
     "end_time": "2024-03-08T15:11:42.929365Z",
     "start_time": "2024-03-08T15:11:42.676526Z"
    }
   },
   "id": "605502429787447d",
   "execution_count": 21
  },
  {
   "cell_type": "markdown",
   "source": [
    "### Applying model for prediction"
   ],
   "metadata": {
    "collapsed": false
   },
   "id": "8775ba35c2276723"
  },
  {
   "cell_type": "code",
   "outputs": [],
   "source": [
    "y_lr_train_pred = lr.predict(X_train)\n",
    "y_lr_test_pred = lr.predict(X_test)"
   ],
   "metadata": {
    "collapsed": false,
    "ExecuteTime": {
     "end_time": "2024-03-08T15:11:44.843016Z",
     "start_time": "2024-03-08T15:11:44.794781Z"
    }
   },
   "id": "4c0d9d96b861f924",
   "execution_count": 22
  },
  {
   "cell_type": "markdown",
   "source": [
    "### Performance evaluation"
   ],
   "metadata": {
    "collapsed": false
   },
   "id": "abbb46a1965b8794"
  },
  {
   "cell_type": "code",
   "outputs": [
    {
     "name": "stdout",
     "output_type": "stream",
     "text": [
      "Performance evaluation: Linear Regression\n",
      "Training Mpe: 0.610586509915844\n",
      "Test Mpe: 0.6147573554418044\n"
     ]
    }
   ],
   "source": [
    "from utils import mean_position_error\n",
    "# training data performance\n",
    "\n",
    "lr_train_mpe = mean_position_error(y_train, y_lr_train_pred)\n",
    "lr_test_mpe = mean_position_error(y_test, y_lr_test_pred)\n",
    "errors_lr = pd.DataFrame([[\"Linear Regression\", lr_train_mpe, lr_test_mpe]], columns=['Model', 'Train MPE', 'Test MPE'])\n",
    "\n",
    "print(\"Performance evaluation: Linear Regression\")\n",
    "print(\"Training Mpe:\", lr_train_mpe)\n",
    "print(\"Test Mpe:\", lr_test_mpe)"
   ],
   "metadata": {
    "collapsed": false,
    "ExecuteTime": {
     "end_time": "2024-03-08T15:11:50.578573Z",
     "start_time": "2024-03-08T15:11:46.252509Z"
    }
   },
   "id": "7fe621999fb92ddf",
   "execution_count": 23
  },
  {
   "cell_type": "markdown",
   "source": [
    "## K-NN"
   ],
   "metadata": {
    "collapsed": false
   },
   "id": "1c6a0afc0441305d"
  },
  {
   "cell_type": "markdown",
   "source": [
    "### Training the model"
   ],
   "metadata": {
    "collapsed": false
   },
   "id": "58569666938d771f"
  },
  {
   "cell_type": "code",
   "outputs": [
    {
     "data": {
      "text/plain": "KNeighborsRegressor(n_neighbors=3)",
      "text/html": "<style>#sk-container-id-6 {color: black;background-color: white;}#sk-container-id-6 pre{padding: 0;}#sk-container-id-6 div.sk-toggleable {background-color: white;}#sk-container-id-6 label.sk-toggleable__label {cursor: pointer;display: block;width: 100%;margin-bottom: 0;padding: 0.3em;box-sizing: border-box;text-align: center;}#sk-container-id-6 label.sk-toggleable__label-arrow:before {content: \"▸\";float: left;margin-right: 0.25em;color: #696969;}#sk-container-id-6 label.sk-toggleable__label-arrow:hover:before {color: black;}#sk-container-id-6 div.sk-estimator:hover label.sk-toggleable__label-arrow:before {color: black;}#sk-container-id-6 div.sk-toggleable__content {max-height: 0;max-width: 0;overflow: hidden;text-align: left;background-color: #f0f8ff;}#sk-container-id-6 div.sk-toggleable__content pre {margin: 0.2em;color: black;border-radius: 0.25em;background-color: #f0f8ff;}#sk-container-id-6 input.sk-toggleable__control:checked~div.sk-toggleable__content {max-height: 200px;max-width: 100%;overflow: auto;}#sk-container-id-6 input.sk-toggleable__control:checked~label.sk-toggleable__label-arrow:before {content: \"▾\";}#sk-container-id-6 div.sk-estimator input.sk-toggleable__control:checked~label.sk-toggleable__label {background-color: #d4ebff;}#sk-container-id-6 div.sk-label input.sk-toggleable__control:checked~label.sk-toggleable__label {background-color: #d4ebff;}#sk-container-id-6 input.sk-hidden--visually {border: 0;clip: rect(1px 1px 1px 1px);clip: rect(1px, 1px, 1px, 1px);height: 1px;margin: -1px;overflow: hidden;padding: 0;position: absolute;width: 1px;}#sk-container-id-6 div.sk-estimator {font-family: monospace;background-color: #f0f8ff;border: 1px dotted black;border-radius: 0.25em;box-sizing: border-box;margin-bottom: 0.5em;}#sk-container-id-6 div.sk-estimator:hover {background-color: #d4ebff;}#sk-container-id-6 div.sk-parallel-item::after {content: \"\";width: 100%;border-bottom: 1px solid gray;flex-grow: 1;}#sk-container-id-6 div.sk-label:hover label.sk-toggleable__label {background-color: #d4ebff;}#sk-container-id-6 div.sk-serial::before {content: \"\";position: absolute;border-left: 1px solid gray;box-sizing: border-box;top: 0;bottom: 0;left: 50%;z-index: 0;}#sk-container-id-6 div.sk-serial {display: flex;flex-direction: column;align-items: center;background-color: white;padding-right: 0.2em;padding-left: 0.2em;position: relative;}#sk-container-id-6 div.sk-item {position: relative;z-index: 1;}#sk-container-id-6 div.sk-parallel {display: flex;align-items: stretch;justify-content: center;background-color: white;position: relative;}#sk-container-id-6 div.sk-item::before, #sk-container-id-6 div.sk-parallel-item::before {content: \"\";position: absolute;border-left: 1px solid gray;box-sizing: border-box;top: 0;bottom: 0;left: 50%;z-index: -1;}#sk-container-id-6 div.sk-parallel-item {display: flex;flex-direction: column;z-index: 1;position: relative;background-color: white;}#sk-container-id-6 div.sk-parallel-item:first-child::after {align-self: flex-end;width: 50%;}#sk-container-id-6 div.sk-parallel-item:last-child::after {align-self: flex-start;width: 50%;}#sk-container-id-6 div.sk-parallel-item:only-child::after {width: 0;}#sk-container-id-6 div.sk-dashed-wrapped {border: 1px dashed gray;margin: 0 0.4em 0.5em 0.4em;box-sizing: border-box;padding-bottom: 0.4em;background-color: white;}#sk-container-id-6 div.sk-label label {font-family: monospace;font-weight: bold;display: inline-block;line-height: 1.2em;}#sk-container-id-6 div.sk-label-container {text-align: center;}#sk-container-id-6 div.sk-container {/* jupyter's `normalize.less` sets `[hidden] { display: none; }` but bootstrap.min.css set `[hidden] { display: none !important; }` so we also need the `!important` here to be able to override the default hidden behavior on the sphinx rendered scikit-learn.org. See: https://github.com/scikit-learn/scikit-learn/issues/21755 */display: inline-block !important;position: relative;}#sk-container-id-6 div.sk-text-repr-fallback {display: none;}</style><div id=\"sk-container-id-6\" class=\"sk-top-container\"><div class=\"sk-text-repr-fallback\"><pre>KNeighborsRegressor(n_neighbors=3)</pre><b>In a Jupyter environment, please rerun this cell to show the HTML representation or trust the notebook. <br />On GitHub, the HTML representation is unable to render, please try loading this page with nbviewer.org.</b></div><div class=\"sk-container\" hidden><div class=\"sk-item\"><div class=\"sk-estimator sk-toggleable\"><input class=\"sk-toggleable__control sk-hidden--visually\" id=\"sk-estimator-id-6\" type=\"checkbox\" checked><label for=\"sk-estimator-id-6\" class=\"sk-toggleable__label sk-toggleable__label-arrow\">KNeighborsRegressor</label><div class=\"sk-toggleable__content\"><pre>KNeighborsRegressor(n_neighbors=3)</pre></div></div></div></div></div>"
     },
     "execution_count": 24,
     "metadata": {},
     "output_type": "execute_result"
    }
   ],
   "source": [
    "from sklearn.neighbors import KNeighborsRegressor\n",
    "\n",
    "knn = KNeighborsRegressor(n_neighbors = 3)\n",
    "knn.fit(X_train, y_train)"
   ],
   "metadata": {
    "collapsed": false,
    "ExecuteTime": {
     "end_time": "2024-03-08T15:11:54.136134Z",
     "start_time": "2024-03-08T15:11:53.494190Z"
    }
   },
   "id": "8108354194cf5f86",
   "execution_count": 24
  },
  {
   "cell_type": "markdown",
   "source": [
    "### Applying the model for prediction"
   ],
   "metadata": {
    "collapsed": false
   },
   "id": "e2c04db9bd2d2bb6"
  },
  {
   "cell_type": "code",
   "outputs": [],
   "source": [
    "y_knn_train_pred = knn.predict(X_train)\n",
    "\n",
    "y_knn_test_pred = knn.predict(X_test)"
   ],
   "metadata": {
    "collapsed": false,
    "ExecuteTime": {
     "end_time": "2024-03-08T15:13:39.492425Z",
     "start_time": "2024-03-08T15:11:54.659510Z"
    }
   },
   "id": "3df82486babfee2b",
   "execution_count": 25
  },
  {
   "cell_type": "markdown",
   "source": [
    "### Performance evaulation"
   ],
   "metadata": {
    "collapsed": false
   },
   "id": "ab2c9f85df4ecdeb"
  },
  {
   "cell_type": "code",
   "outputs": [
    {
     "name": "stdout",
     "output_type": "stream",
     "text": [
      "Performance evaluation: KNN\n",
      "Training Mpe: 0.009942809183187526\n",
      "Test Mpe: 0.024101203613680955\n"
     ]
    }
   ],
   "source": [
    "knn_train_mpe = mean_position_error(y_train, y_knn_train_pred)\n",
    "knn_test_mpe = mean_position_error(y_test, y_knn_test_pred)\n",
    "errors_knn = pd.DataFrame([[\"KNN\",knn_train_mpe, knn_test_mpe]], columns= ['Model','Train MPE', 'Test MPE'])\n",
    "\n",
    "print(\"Performance evaluation: KNN\")\n",
    "print(\"Training Mpe:\", knn_train_mpe)\n",
    "print(\"Test Mpe:\", knn_test_mpe)"
   ],
   "metadata": {
    "collapsed": false,
    "ExecuteTime": {
     "end_time": "2024-03-08T15:13:43.785781Z",
     "start_time": "2024-03-08T15:13:39.493267Z"
    }
   },
   "id": "6d487bb59ffc8d41",
   "execution_count": 26
  },
  {
   "cell_type": "markdown",
   "source": [
    "## Random Forest"
   ],
   "metadata": {
    "collapsed": false
   },
   "id": "e3236694cb3334c4"
  },
  {
   "cell_type": "markdown",
   "source": [
    "### Training the model"
   ],
   "metadata": {
    "collapsed": false
   },
   "id": "508936fe2c5df0fe"
  },
  {
   "cell_type": "code",
   "outputs": [
    {
     "data": {
      "text/plain": "RandomForestRegressor()",
      "text/html": "<style>#sk-container-id-7 {color: black;background-color: white;}#sk-container-id-7 pre{padding: 0;}#sk-container-id-7 div.sk-toggleable {background-color: white;}#sk-container-id-7 label.sk-toggleable__label {cursor: pointer;display: block;width: 100%;margin-bottom: 0;padding: 0.3em;box-sizing: border-box;text-align: center;}#sk-container-id-7 label.sk-toggleable__label-arrow:before {content: \"▸\";float: left;margin-right: 0.25em;color: #696969;}#sk-container-id-7 label.sk-toggleable__label-arrow:hover:before {color: black;}#sk-container-id-7 div.sk-estimator:hover label.sk-toggleable__label-arrow:before {color: black;}#sk-container-id-7 div.sk-toggleable__content {max-height: 0;max-width: 0;overflow: hidden;text-align: left;background-color: #f0f8ff;}#sk-container-id-7 div.sk-toggleable__content pre {margin: 0.2em;color: black;border-radius: 0.25em;background-color: #f0f8ff;}#sk-container-id-7 input.sk-toggleable__control:checked~div.sk-toggleable__content {max-height: 200px;max-width: 100%;overflow: auto;}#sk-container-id-7 input.sk-toggleable__control:checked~label.sk-toggleable__label-arrow:before {content: \"▾\";}#sk-container-id-7 div.sk-estimator input.sk-toggleable__control:checked~label.sk-toggleable__label {background-color: #d4ebff;}#sk-container-id-7 div.sk-label input.sk-toggleable__control:checked~label.sk-toggleable__label {background-color: #d4ebff;}#sk-container-id-7 input.sk-hidden--visually {border: 0;clip: rect(1px 1px 1px 1px);clip: rect(1px, 1px, 1px, 1px);height: 1px;margin: -1px;overflow: hidden;padding: 0;position: absolute;width: 1px;}#sk-container-id-7 div.sk-estimator {font-family: monospace;background-color: #f0f8ff;border: 1px dotted black;border-radius: 0.25em;box-sizing: border-box;margin-bottom: 0.5em;}#sk-container-id-7 div.sk-estimator:hover {background-color: #d4ebff;}#sk-container-id-7 div.sk-parallel-item::after {content: \"\";width: 100%;border-bottom: 1px solid gray;flex-grow: 1;}#sk-container-id-7 div.sk-label:hover label.sk-toggleable__label {background-color: #d4ebff;}#sk-container-id-7 div.sk-serial::before {content: \"\";position: absolute;border-left: 1px solid gray;box-sizing: border-box;top: 0;bottom: 0;left: 50%;z-index: 0;}#sk-container-id-7 div.sk-serial {display: flex;flex-direction: column;align-items: center;background-color: white;padding-right: 0.2em;padding-left: 0.2em;position: relative;}#sk-container-id-7 div.sk-item {position: relative;z-index: 1;}#sk-container-id-7 div.sk-parallel {display: flex;align-items: stretch;justify-content: center;background-color: white;position: relative;}#sk-container-id-7 div.sk-item::before, #sk-container-id-7 div.sk-parallel-item::before {content: \"\";position: absolute;border-left: 1px solid gray;box-sizing: border-box;top: 0;bottom: 0;left: 50%;z-index: -1;}#sk-container-id-7 div.sk-parallel-item {display: flex;flex-direction: column;z-index: 1;position: relative;background-color: white;}#sk-container-id-7 div.sk-parallel-item:first-child::after {align-self: flex-end;width: 50%;}#sk-container-id-7 div.sk-parallel-item:last-child::after {align-self: flex-start;width: 50%;}#sk-container-id-7 div.sk-parallel-item:only-child::after {width: 0;}#sk-container-id-7 div.sk-dashed-wrapped {border: 1px dashed gray;margin: 0 0.4em 0.5em 0.4em;box-sizing: border-box;padding-bottom: 0.4em;background-color: white;}#sk-container-id-7 div.sk-label label {font-family: monospace;font-weight: bold;display: inline-block;line-height: 1.2em;}#sk-container-id-7 div.sk-label-container {text-align: center;}#sk-container-id-7 div.sk-container {/* jupyter's `normalize.less` sets `[hidden] { display: none; }` but bootstrap.min.css set `[hidden] { display: none !important; }` so we also need the `!important` here to be able to override the default hidden behavior on the sphinx rendered scikit-learn.org. See: https://github.com/scikit-learn/scikit-learn/issues/21755 */display: inline-block !important;position: relative;}#sk-container-id-7 div.sk-text-repr-fallback {display: none;}</style><div id=\"sk-container-id-7\" class=\"sk-top-container\"><div class=\"sk-text-repr-fallback\"><pre>RandomForestRegressor()</pre><b>In a Jupyter environment, please rerun this cell to show the HTML representation or trust the notebook. <br />On GitHub, the HTML representation is unable to render, please try loading this page with nbviewer.org.</b></div><div class=\"sk-container\" hidden><div class=\"sk-item\"><div class=\"sk-estimator sk-toggleable\"><input class=\"sk-toggleable__control sk-hidden--visually\" id=\"sk-estimator-id-7\" type=\"checkbox\" checked><label for=\"sk-estimator-id-7\" class=\"sk-toggleable__label sk-toggleable__label-arrow\">RandomForestRegressor</label><div class=\"sk-toggleable__content\"><pre>RandomForestRegressor()</pre></div></div></div></div></div>"
     },
     "execution_count": 27,
     "metadata": {},
     "output_type": "execute_result"
    }
   ],
   "source": [
    "from sklearn.ensemble import RandomForestRegressor\n",
    "\n",
    "rf = RandomForestRegressor()\n",
    "rf.fit(X_train, y_train)"
   ],
   "metadata": {
    "collapsed": false,
    "ExecuteTime": {
     "end_time": "2024-03-08T15:15:09.381689Z",
     "start_time": "2024-03-08T15:13:43.786451Z"
    }
   },
   "id": "8b8b25b22c1840d7",
   "execution_count": 27
  },
  {
   "cell_type": "markdown",
   "source": [
    "### Applying the model for prediction"
   ],
   "metadata": {
    "collapsed": false
   },
   "id": "88c550944c7b18af"
  },
  {
   "cell_type": "code",
   "outputs": [],
   "source": [
    "y_rf_train_pred = rf.predict(X_train)\n",
    "y_rf_test_pred = rf.predict(X_test)"
   ],
   "metadata": {
    "collapsed": false,
    "ExecuteTime": {
     "end_time": "2024-03-08T15:15:10.942373Z",
     "start_time": "2024-03-08T15:15:09.383037Z"
    }
   },
   "id": "fdab97684c38bf6f",
   "execution_count": 28
  },
  {
   "cell_type": "markdown",
   "source": [
    "### Performance evalutaion"
   ],
   "metadata": {
    "collapsed": false
   },
   "id": "72d3d184e0585a49"
  },
  {
   "cell_type": "code",
   "outputs": [
    {
     "name": "stdout",
     "output_type": "stream",
     "text": [
      "Performance evaluation: Random Forest\n",
      "Training Mpe: 0.248528037517864\n",
      "Test Mpe: 0.2494369173309712\n"
     ]
    }
   ],
   "source": [
    "rf_train_mpe = mean_position_error(y_train, y_rf_train_pred)\n",
    "rf_test_mpe = mean_position_error(y_test, y_rf_test_pred)\n",
    "errors_rf = pd.DataFrame([[\"Random Forest\",rf_train_mpe, rf_test_mpe]], columns= ['Model','Train MPE', 'Test MPE'])\n",
    "\n",
    "print(\"Performance evaluation: Random Forest\")\n",
    "print(\"Training Mpe:\", rf_train_mpe)\n",
    "print(\"Test Mpe:\",rf_test_mpe)"
   ],
   "metadata": {
    "collapsed": false,
    "ExecuteTime": {
     "end_time": "2024-03-08T15:15:15.159168Z",
     "start_time": "2024-03-08T15:15:10.943140Z"
    }
   },
   "id": "842d4d682e29f8c7",
   "execution_count": 29
  },
  {
   "cell_type": "markdown",
   "source": [
    "## Model comparison"
   ],
   "metadata": {
    "collapsed": false
   },
   "id": "646d99927dfd6395"
  },
  {
   "cell_type": "code",
   "outputs": [
    {
     "name": "stdout",
     "output_type": "stream",
     "text": [
      "               Model  Train MPE  Test MPE\n",
      "0  Linear Regression   0.610587  0.614757\n",
      "0                KNN   0.009943  0.024101\n",
      "0      Random Forest   0.248528  0.249437\n"
     ]
    },
    {
     "data": {
      "text/plain": "<Figure size 800x800 with 1 Axes>",
      "image/png": "[encoded data removed]"
     },
     "metadata": {},
     "output_type": "display_data"
    }
   ],
   "source": [
    "import seaborn as sns\n",
    "errors_comp = pd.concat([errors_lr, errors_knn, errors_rf], axis=0)\n",
    "\n",
    "print(errors_comp)\n",
    "\n",
    "# Assuming errors_comp is already prepared\n",
    "errors_comp_melted = errors_comp.melt(id_vars='Model', var_name='DataSet', value_name='MPE')\n",
    "\n",
    "# Plot\n",
    "plt.figure(figsize=(8, 8))\n",
    "sns.barplot(data=errors_comp_melted, x='Model', y='MPE', hue='DataSet', palette='viridis', width=0.5)\n",
    "\n",
    "plt.title('Mean Positional Error (MPE) by Model and DataSet')\n",
    "plt.ylabel('Mean Positional Error (MPE)')\n",
    "plt.xlabel('ML Model')\n",
    "\n",
    "plt.yscale('log')  # Using a logarithmic scale to better visualize low values\n",
    "\n",
    "plt.tight_layout()\n",
    "plt.show()"
   ],
   "metadata": {
    "collapsed": false,
    "ExecuteTime": {
     "end_time": "2024-03-08T15:15:15.374922Z",
     "start_time": "2024-03-08T15:15:15.159865Z"
    }
   },
   "id": "92e22cbac06366c",
   "execution_count": 30
  },
  {
   "cell_type": "code",
   "outputs": [],
   "source": [],
   "metadata": {
    "collapsed": false
   },
   "id": "e709f6907880df8b",
   "execution_count": null
  }
 ],
 "metadata": {
  "kernelspec": {
   "display_name": "Python 3 (ipykernel)",
   "language": "python",
   "name": "python3"
  },
  "language_info": {
   "codemirror_mode": {
    "name": "ipython",
    "version": 3
   },
   "file_extension": ".py",
   "mimetype": "text/x-python",
   "name": "python",
   "nbconvert_exporter": "python",
   "pygments_lexer": "ipython3",
   "version": "3.11.7"
  }
 },
 "nbformat": 4,
 "nbformat_minor": 5
}
